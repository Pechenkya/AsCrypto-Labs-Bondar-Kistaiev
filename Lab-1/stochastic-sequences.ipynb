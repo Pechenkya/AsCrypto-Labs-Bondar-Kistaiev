{
 "cells": [
  {
   "cell_type": "code",
   "execution_count": 1,
   "metadata": {},
   "outputs": [],
   "source": [
    "import numpy as np\n",
    "import random"
   ]
  },
  {
   "cell_type": "markdown",
   "metadata": {},
   "source": [
    "### Генератор Лемера"
   ]
  },
  {
   "cell_type": "code",
   "execution_count": null,
   "metadata": {},
   "outputs": [],
   "source": [
    "class Linear_Low:\n",
    "    a = 2**16 + 1\n",
    "    c = 119\n",
    "    x0 = 1  # тюряга #\n",
    "\n",
    "    def generate_bytes(self, n: int):\n",
    "        seq = np.zeros(n, dtype=np.uint32)\n",
    "        seq[0] = self.x0\n",
    "\n",
    "        for i in range(0, n - 1):\n",
    "            seq[i+1] = (self.a*seq[i] + self.c) \n",
    "\n",
    "        seq = np.array([seq % (2**8)], dtype=np.uint8)\n",
    "\n",
    "        return seq\n",
    "\n",
    "class Linear_High:\n",
    "    a = 2**16 + 1\n",
    "    c = 119\n",
    "    x0 = 1  # тюряга #\n",
    "\n",
    "    def generate_bytes(self, n: int):\n",
    "        seq = np.zeros(n, dtype=np.uint32)\n",
    "        seq[0] = self.x0\n",
    "\n",
    "        for i in range(0, n - 1):\n",
    "            seq[i+1] = (self.a*seq[i] + self.c)\n",
    "\n",
    "        seq = np.array([seq >> 24], dtype=np.uint8)\n",
    "\n",
    "        return seq\n",
    "        \n",
    "            "
   ]
  },
  {
   "cell_type": "code",
   "execution_count": null,
   "metadata": {},
   "outputs": [],
   "source": [
    "de1 = Linear_Low()\n",
    "de2 = Linear_High()\n",
    "\n",
    "print(de1.generate_bytes(20))\n",
    "print(de2.generate_bytes(20))"
   ]
  },
  {
   "cell_type": "markdown",
   "metadata": {},
   "source": [
    "### Генератор L20"
   ]
  },
  {
   "cell_type": "code",
   "execution_count": null,
   "metadata": {},
   "outputs": [],
   "source": [
    "class L20:\n",
    "    def __init__(self, x_init: np.array):\n",
    "        self.x_init = x_init\n",
    "\n",
    "    def generate_bits(self, n: int):\n",
    "        seq = np.concatenate([np.array(self.x_init, dtype=np.uint8), np.zeros(n - 20, dtype=np.uint8)])\n",
    "\n",
    "        for i in range(20, n):\n",
    "            seq[i] = seq[i - 3] ^ seq[i - 5] ^ seq[i - 9] ^ seq[i - 20]\n",
    "\n",
    "        seq = seq % 2\n",
    "\n",
    "        return seq\n",
    "            "
   ]
  },
  {
   "cell_type": "code",
   "execution_count": null,
   "metadata": {},
   "outputs": [],
   "source": [
    "smp = np.array([random.randint(0, 1) for _ in range(20)])\n",
    "print(smp)\n",
    "de_L20 = L20(smp)\n",
    "\n",
    "print(de_L20.generate_bits(100))"
   ]
  },
  {
   "cell_type": "markdown",
   "metadata": {},
   "source": [
    "### Генератор L89"
   ]
  },
  {
   "cell_type": "code",
   "execution_count": null,
   "metadata": {},
   "outputs": [],
   "source": [
    "class L89:\n",
    "    def __init__(self, x_init: np.array):\n",
    "        self.x_init = x_init\n",
    "\n",
    "    def generate_bits(self, n: int):\n",
    "        seq = np.concatenate([np.array(self.x_init, dtype=np.uint8), np.zeros(n - 89, dtype=np.uint8)])\n",
    "\n",
    "        for i in range(89, n):\n",
    "            seq[i] = seq[i - 38] ^ seq[i - 89]\n",
    "\n",
    "        seq = seq % 2\n",
    "\n",
    "        return seq\n",
    "            "
   ]
  },
  {
   "cell_type": "code",
   "execution_count": null,
   "metadata": {},
   "outputs": [],
   "source": [
    "smp = np.array([random.randint(0, 1) for _ in range(89)])\n",
    "de_L89 = L89(smp)\n",
    "\n",
    "print(de_L89.generate_bits(90))"
   ]
  },
  {
   "cell_type": "markdown",
   "metadata": {},
   "source": [
    "### Генератор Вольфрама"
   ]
  },
  {
   "cell_type": "code",
   "execution_count": null,
   "metadata": {},
   "outputs": [],
   "source": [
    "# В ПІТОНІ НЕМА ВБУДОВАНОГО ЦИКЛІЧНОГО ЗСУВУ\n",
    "def rcs(n: np.uint32, rotations):\n",
    "    return (n >> rotations | n << (32-rotations))\n",
    "\n",
    "def lcs(n: np.uint32, rotations):\n",
    "    return (n << rotations | n >> (32-rotations))\n",
    "\n",
    "class Wolfram:\n",
    "    def __init__(self, r0: np.uint32):\n",
    "        self.r0 = r0\n",
    "\n",
    "    def generate_bits(self, n: int):\n",
    "        r_i = self.r0\n",
    "        seq = np.zeros(n, dtype=np.uint8)\n",
    "\n",
    "        for i in range(0, n):\n",
    "            seq[i] = r_i % 2\n",
    "            r_i = lcs(r_i, 1) ^ (r_i | rcs(r_i, 1))  \n",
    "\n",
    "        return seq\n",
    "            "
   ]
  },
  {
   "cell_type": "code",
   "execution_count": null,
   "metadata": {},
   "outputs": [],
   "source": [
    "de_wolfram = Wolfram(1)\n",
    "\n",
    "print(de_wolfram.generate_bits(100))"
   ]
  },
  {
   "cell_type": "markdown",
   "metadata": {},
   "source": [
    "### Генератор BM"
   ]
  },
  {
   "cell_type": "code",
   "execution_count": 8,
   "metadata": {},
   "outputs": [],
   "source": [
    "class BM:\n",
    "    def __init__(self, p, a):\n",
    "        self.p = p\n",
    "        self.a = a\n",
    "\n",
    "    def generate_bits(self, n: int):\n",
    "        seq = np.zeros(n, dtype=object)\n",
    "        seq[0] = random.randint(0, self.p - 1) \n",
    "\n",
    "        for i in range(1, n):\n",
    "            seq[i] = pow(self.a, seq[i - 1], self.p)\n",
    "\n",
    "        seq = np.array([seq < (self.p - 1) / 2], dtype=np.uint8) \n",
    "\n",
    "        return seq\n",
    "    \n",
    "    #todo\n",
    "    def generate_bytes(self, n: int):\n",
    "        seq = np.zeros(n, dtype=object)\n",
    "        seq[0] = random.randint(0, self.p - 1) \n",
    "\n",
    "        for i in range(1, n):\n",
    "            seq[i] = pow(self.a, seq[i - 1], self.p)\n",
    "\n",
    "        seq = np.array([seq < (self.p - 1) / 2], dtype=np.uint8) \n",
    "\n",
    "        return seq\n",
    "            "
   ]
  },
  {
   "cell_type": "code",
   "execution_count": 9,
   "metadata": {},
   "outputs": [
    {
     "name": "stdout",
     "output_type": "stream",
     "text": [
      "[[1 0 1 0 0 1 1 1 0 0 1 0 1 1 0 1 1 0 1 1 1 1 0 1 1 1 1 1 1 0 0 0 1 1 1 0\n",
      "  0 1 1 1 0 0 0 1 0 1 1 1 0 1 1 1 1 0 0 0 1 0 1 0 1 0 1 0 0 0 1 0 1 0 1 1\n",
      "  1 1 0 0 1 0 0 1 1 0 1 0 0 1 1 0 1 1 1 1 0 1 1 1 1 1 1 1 1 0 1 1 0 1 1 1\n",
      "  0 0 1 0 0 0 0 0 0 0 0 0 1 1 0 0 0 0 0 0 1 1 0 1 0 0 1 0 1 0 0 0 1 1 1 0\n",
      "  1 1 0 0 0 1 1 1 1 0 0 0 1 1 1 0 0 1 0 0 1 0 0 0 0 1 1 1 0 0 1 1 1 1 1 0\n",
      "  0 1 0 0 0 0 0 0 1 0 1 0 0 0 1 1 0 1 0 1 0 0 1 0 0 1 0 0 0 0 0 0 0 1 1 0\n",
      "  0 1 1 1 1 0 0 1 1 1 0 1 0 1 1 0 1 0 1 1 1 0 1 0 0 0 1 1 0 0 1 0 0 0 0 1\n",
      "  0 1 1 1 1 0 0 0 0 0 1 1 0 1 0 0 1 0 0 1 1 1 0 1 1 1 0 0 1 1 1 0 1 0 1 0\n",
      "  0 0 0 1 1 0 0 1 1 1 0 1 1 1 0 1 0 1 1 1 1 1 0 1 0 0 1 0 1 0 1 0 1 0 0 1\n",
      "  0 0 0 1 1 1 1 1 0 0 0 0 1 0 1 0 1 0 0 1 0 0 1 1 1 1 0 0 0 0 0 0 1 1 1 1\n",
      "  1 0 1 0 1 1 0 1 1 0 1 0 1 1 1 1 0 0 0 0 0 1 1 0 1 0 0 1 0 1 1 0 1 0 0 1\n",
      "  1 1 0 0 1 0 0 1 1 0 0 1 0 0 0 0 1 0 0 0 1 1 1 1 1 0 0 0 1 1 0 0 0 0 1 0\n",
      "  0 1 0 0 1 0 0 1 1 0 0 1 0 0 1 1 1 1 0 0 0 1 0 1 1 0 0 0 0 1 0 1 0 0 1 0\n",
      "  1 1 0 0 1 1 0 0 0 1 1 1 1 1 0 1 0 1 0 1 0 1 0 0 1 0 1 1 0 1 1 0 1 0 0 0\n",
      "  1 0 0 0 0 0 1 1 1 0 1 0 1 1 0 0 1 0 1 1 0 0 1 0 1 1 0 0 0 1 0 0 0 0 1 0\n",
      "  0 0 0 0 0 1 0 0 0 1 0 1 1 0 0 1 0 1 0 0 0 1 0 0 1 1 1 1 1 0 1 1 1 1 1 0\n",
      "  0 0 0 0 0 0 0 1 1 1 0 0 0 1 1 0 0 1 1 0 0 1 1 1 1 1 0 0 0 1 1 1 0 0 1 0\n",
      "  1 0 1 0 1 0 1 1 0 1 0 0 1 1 1 0 0 0 1 1 1 0 0 1 1 1 0 0 1 1 1 0 0 1 1 1\n",
      "  0 1 0 1 0 1 0 0 1 0 1 1 0 0 0 0 1 1 0 1 1 0 0 1 1 0 0 0 1 0 1 0 1 0 0 1\n",
      "  0 1 1 0 0 0 0 1 1 0 0 0 1 1 1 1 1 0 1 1 1 1 1 1 1 0 0 1 0 0 1 0 1 1 0 0\n",
      "  1 0 0 1 1 1 0 0 0 0 0 1 1 1 0 0 0 1 1 0 1 1 0 0 1 1 1 1 1 1 1 1 1 0 1 0\n",
      "  0 0 0 0 0 0 1 1 1 0 1 1 1 0 0 0 1 0 0 0 0 0 1 1 0 0 1 1 0 1 0 1 0 0 0 1\n",
      "  1 0 0 0 1 0 0 0 1 1 0 1 1 0 1 0 1 0 0 1 1 0 1 1 0 0 0 1 1 0 1 0 0 1 0 1\n",
      "  1 1 0 0 0 0 0 1 0 1 1 1 1 0 0 1 0 0 1 0 0 0 0 0 0 0 0 1 0 0 1 0 1 0 1 1\n",
      "  0 1 1 0 0 1 0 1 0 1 1 1 0 1 1 1 1 1 0 1 1 0 0 0 1 1 1 0 1 1 1 1 0 0 0 1\n",
      "  0 0 1 1 1 0 1 0 0 1 1 0 0 1 1 1 1 1 0 1 0 0 1 0 1 0 1 0 0 1 0 0 1 0 0 1\n",
      "  0 0 0 0 0 1 0 1 1 1 1 0 1 0 1 0 1 1 1 0 1 0 1 1 1 1 0 1 0 0 0 0 0 0 1 1\n",
      "  0 0 1 1 1 1 0 1 1 1 1 0 0 1 0 1 0 1 1 1 0 0 1 1 0 1 0 1]]\n"
     ]
    }
   ],
   "source": [
    "p = int(\"CEA42B987C44FA642D80AD9F51F10457690DEF10C83D0BC1BCEE12FC3B6093E3\", 16)\n",
    "a = int(\"5B88C41246790891C095E2878880342E88C79974303BD0400B090FE38A688356\", 16)\n",
    "\n",
    "de_BM = BM(p, a)\n",
    "\n",
    "print(de_BM.generate_bits(1000))"
   ]
  },
  {
   "cell_type": "markdown",
   "metadata": {},
   "source": [
    "### Генератор BBS"
   ]
  },
  {
   "cell_type": "code",
   "execution_count": 10,
   "metadata": {},
   "outputs": [],
   "source": [
    "class BBS:\n",
    "    def __init__(self, p, q):\n",
    "        self.n = p*q\n",
    "\n",
    "    def generate_bits(self, n: int):\n",
    "        seq = np.zeros(n, dtype=object)\n",
    "        seq[0] = random.randint(2, self.n - 1) \n",
    "\n",
    "        for i in range(1, n):\n",
    "            seq[i] = pow(seq[i - 1], 2, self.n)\n",
    "\n",
    "        seq = np.array([seq % 2], dtype=np.uint8) \n",
    "\n",
    "        return seq\n",
    "    \n",
    "    def generate_bytes(self, n: int):\n",
    "        seq = np.zeros(n, dtype=object)\n",
    "        seq[0] = random.randint(2, self.n - 1) \n",
    "\n",
    "        for i in range(1, n):\n",
    "            seq[i] = pow(seq[i - 1], 2, self.n)\n",
    "\n",
    "        seq = np.array([seq % (2**8)], dtype=np.uint8) \n",
    "\n",
    "        return seq\n",
    "            "
   ]
  },
  {
   "cell_type": "code",
   "execution_count": 12,
   "metadata": {},
   "outputs": [
    {
     "name": "stdout",
     "output_type": "stream",
     "text": [
      "[[135 162 192 178 195  46 176  65 192  43 129 213  98  87 186 154 105 171\n",
      "   42  38 237  89  69 214 176 163  21 241 205 106 127 233 175 142 105 199\n",
      "  254 227  33  30  29 221 179 164 185 141  90 213 120  64  33 188 128 236\n",
      "   15  29  27  59  48  47 252 117  97 238 219 193  86 217  45 154  91  80\n",
      "   31  55 156 111 136   4 131 180  94 122 207  71  84 179  98  46  66 160\n",
      "  235 204 246 166  42 159 151 121 205 132  35 106  64 223 111 107  58 216\n",
      "  215 208  22 233 113 118 247 171 151 255 175  69  75 222  34  18 192  31\n",
      "   26  73 230 211 218 121 215  54 231 101 178  92 234 158 101  14  10  18\n",
      "  250 241  44 123 123  57 249 224  55   0 244 124 115  80 106  91 232 222\n",
      "   46 150 152  10 243  12 203 178 191   4  57  25 246 225 130 102 253  35\n",
      "  113 171 158  70 223   0 248  89 142   1 198  65 144  31 101 217  33  53\n",
      "  245 204 229  31 124 249  63 119   9  58  41 219 120 196 123 209 125  82\n",
      "  246 150 195 206 202 150 176 159 130 198  89  22 198  53  93  37 105 222\n",
      "  241  23  64  40  86  93 112 154  64 196 135 178 138  41 128 178 128 167\n",
      "  195 105 238 190 196 138 171 155 218  96 194 190 198 138 108 224  69 244\n",
      "   38  65  95 188  33 214  34 186  33  81 109  36 229 136 157 178 159  53\n",
      "  235 182 131 171  89 161 168  51  14  53 116  44 236  73 234  86 128 241\n",
      "  190 142 100 209 222 144 203  61 222  51 219 168 160 122 174 187 100 222\n",
      "   25  92  50 118 209 136  14 205 104  73 244 221 233 130 249 242 180 191\n",
      "  133  81 248 208 135 147  60  62  92 218 117 167  96 138 164 234 123 235\n",
      "  190 197  25  48  20  43  48 233 197 235 241  60 121 179 222  54 220  78\n",
      "   57 122 230 194 205 238  64  20 129  91 140  75  56  49 251 126  11   7\n",
      "   35 193 140  12  86  50 164 118 255  88 240  94   3 158 148 165  64 157\n",
      "  128   4 176  35 200  60  85  22 180  63  72  24 242 106  81  96 224 107\n",
      "  247 175 239 239  82 237 239 124  94 196   4 113 131   4  42   1 236   4\n",
      "  111 128 120 243 114  84 136 255 146 217 208 232 146  19 199 123 246 239\n",
      "  189 179 218 236 143 196 173 238 195 182 241 211  17 138 201 172 222 148\n",
      "   28 105 223 173 197  93 157   9 126 219  65 202 207 114 119  14  56  28\n",
      "   51   6 104 115  18 198 122  32 206 138   5 235  81  39  68  32  28 242\n",
      "  163   7 227  12 145  22 176 208 210 145 210  48 222   6 132 214 181  44\n",
      "  253  15 177 167  46 107 224 121 143 132 212 178  26 248 143 106  90 189\n",
      "  236  17 155 253 173 137  70 185  17 196 195  23 100 122   5 127  82  98\n",
      "  113 147 197 218  27 116  10 255 171  62 238 191  91 115 140 247 255 206\n",
      "  211 137 175 174 238  23  54  65 254 101 178 184 112  56 182 101 236 199\n",
      "  253 151 114 181  57 210  46 131 101  74 162 240  30  13 168 224 184  14\n",
      "   26 198 225  62   6  49  33 117 198 147 223  28  50 243 235 164 109 242\n",
      "   58  59 166   0  40 162 178 201 210 225 127 159   2  95 192 102 202 239\n",
      "  157 110 147  61 186 102  38  83 106 161 129 173 244  30  97 213  72 175\n",
      "   29  46 235 197   1 216 206 114  27  19  99  53 237 188 154 139  57  11\n",
      "  149  59 121 253 142 214  87 110  44  32  66 140  79 228 229 112 227 164\n",
      "   94  79 216  16 231 155 189 204 193 153 228 125  58  91 123 249 154 154\n",
      "  222  97  37 145  52 167 203 240  79  24 102 250 254 220  89 245  85  71\n",
      "  100  51  47  56  71 219 200  46 162  81  21 140 162  20 193  34 215   6\n",
      "   47  64 122 130 101 181   1 172 183  66  56 115  28 180 228   4 234 113\n",
      "  193 136  61 191 255  39 171 219 202 192  33 252 160 131   4 102 230 165\n",
      "  255  22 173  54  25  79  45  79  11 192  48 199  15  81   9 226  97  47\n",
      "  152 143 154  19 247 235   4   5 198  49 252  97 112   3 128  55 212 242\n",
      "  131 250 158 106 122 238  12  33  84  20 133  49 233 220  31  76  38 149\n",
      "  190 193   4  95  20 207 225 102 183 128   7 175  91  12   1 214 123 214\n",
      "  107 234 130  77 158  68  51 241  13  65 158 100 203  36 159 124 115 121\n",
      "  145 118 154 109 141 123 132 124 159 100  90 138  80 208  50  40  34 146\n",
      "  137 189  77 216 227 141   2 236  65 167  27 185 199 161 119  61 233  82\n",
      "  160  70 159  78 195  63 193 160 226  14 133 150 164  15  43 223 244 145\n",
      "  143  31 244   8  31  88 180   3  85  51 229 190 125 148 244  97 125   2\n",
      "   40 195 228 132  55 108 230  34 192 177 131 170 194  10 116 181  14  47\n",
      "   78  20 224 164  56 190 140  85 106  31]]\n"
     ]
    }
   ],
   "source": [
    "p = int(\"D5BBB96D30086EC484EBA3D7F9CAEB07\", 16)\n",
    "q = int(\"425D2B9BFDB25B9CF6C416CC6E37B59C1F\", 16)\n",
    "\n",
    "de_BBS = BBS(p, q)\n",
    "\n",
    "print(de_BBS.generate_bytes(1000))"
   ]
  },
  {
   "cell_type": "markdown",
   "metadata": {},
   "source": [
    "#### Криптографічно нестійкий генератор"
   ]
  },
  {
   "cell_type": "code",
   "execution_count": null,
   "metadata": {},
   "outputs": [],
   "source": []
  },
  {
   "cell_type": "markdown",
   "metadata": {},
   "source": [
    "#### Криптографічно стійкий генератор"
   ]
  },
  {
   "cell_type": "code",
   "execution_count": null,
   "metadata": {},
   "outputs": [],
   "source": []
  }
 ],
 "metadata": {
  "kernelspec": {
   "display_name": "Python 3",
   "language": "python",
   "name": "python3"
  },
  "language_info": {
   "codemirror_mode": {
    "name": "ipython",
    "version": 3
   },
   "file_extension": ".py",
   "mimetype": "text/x-python",
   "name": "python",
   "nbconvert_exporter": "python",
   "pygments_lexer": "ipython3",
   "version": "3.11.5"
  },
  "orig_nbformat": 4
 },
 "nbformat": 4,
 "nbformat_minor": 2
}
