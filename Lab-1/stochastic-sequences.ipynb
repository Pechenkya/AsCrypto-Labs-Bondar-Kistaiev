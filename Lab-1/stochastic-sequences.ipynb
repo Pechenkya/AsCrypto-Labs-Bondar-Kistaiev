{
 "cells": [
  {
   "cell_type": "markdown",
   "metadata": {},
   "source": [
    "# Лабораторна робота 1 з \"Асиметричних криптосистем та протоколів\"\n",
    "## Тема: Побудова тестів для перевірки якості випадкових та псевдовипадкових послідовностей.\n",
    "\n",
    "**Виконали**\\\n",
    "Бондар Петро, ФІ-03\\\n",
    "Кістаєв Матвій, ФІ-03"
   ]
  },
  {
   "cell_type": "markdown",
   "metadata": {},
   "source": [
    "## Підготовка до виконання лабораторнох роботи"
   ]
  },
  {
   "cell_type": "code",
   "execution_count": 22,
   "metadata": {},
   "outputs": [],
   "source": [
    "import numpy as np\n",
    "import random\n",
    "import secrets\n",
    "import io\n",
    "import scipy\n",
    "\n",
    "N = 1000000\n",
    "Alpha = 0.05"
   ]
  },
  {
   "cell_type": "markdown",
   "metadata": {},
   "source": [
    "## Функція статистичних тестів"
   ]
  },
  {
   "cell_type": "code",
   "execution_count": 23,
   "metadata": {},
   "outputs": [],
   "source": [
    "# Швидко не буде.\n",
    "def bits_to_bytes(seq):\n",
    "    n = len(seq) // 8\n",
    "    res = np.zeros(n ,dtype=np.uint8)\n",
    "\n",
    "    bit_string = \"\".join(map(str, list(seq)))\n",
    "    res = np.array([int(\"0b\" + bit_string[i*8:(i*8)+8], 2) for i in range(n)])\n",
    "\n",
    "    return res"
   ]
  },
  {
   "cell_type": "code",
   "execution_count": 24,
   "metadata": {},
   "outputs": [],
   "source": [
    "def test(seq: np.array, b = 8):\n",
    "    n = len(seq)\n",
    "\n",
    "    # Рівномірність\n",
    "    counts = np.zeros(2**b)\n",
    "    n_j = n / (2**b)\n",
    "\n",
    "    for a in seq:\n",
    "        counts[a] += 1\n",
    "\n",
    "    stat_U = np.sum((counts - n_j)**2 / n_j)\n",
    "    quant_U = scipy.stats.chi2.ppf(1 - Alpha, 2**b - 1)\n",
    "    \n",
    "    print(\"Тест на рівноймовірність символів:  \" + str(stat_U <= quant_U) + \"   (\" + str(stat_U) + \")\")\n",
    "\n",
    "\n",
    "    # Незалежність символів\n",
    "    pair_counts = np.zeros((2**b, 2**b), dtype=float)\n",
    "\n",
    "    for i in range(0, n-1, 1):\n",
    "        pair_counts[seq[i]][seq[i+1]] = pair_counts[seq[i]][seq[i+1]] + 1\n",
    "\n",
    "    S = 0\n",
    "    for i in range(0, 2**b):\n",
    "        for j in range(0, 2**b):\n",
    "            d = (np.sum(pair_counts[i, :]) * np.sum(pair_counts[:, j]))\n",
    "            if d != 0:\n",
    "                S += (pair_counts[i, j] ** 2) / d\n",
    "\n",
    "    stat_I = n * (S - 1)\n",
    "    quant_I = scipy.stats.chi2.ppf(1 - Alpha, (2**b - 1)**2)\n",
    "\n",
    "    print(\"Тест на незалежність символів:  \" + str(stat_I <= quant_I) + \"   (\" + str(stat_I) + \")\")\n",
    "\n",
    "    # Однорідність послідовності\n",
    "    r = 200\n",
    "    interval_counts = np.zeros((r, 2**b), dtype=float)\n",
    "\n",
    "    for i in range(0, r):\n",
    "        for j in range(0, n // r):\n",
    "            c = seq[r*i + j]\n",
    "            interval_counts[i, c] += 1\n",
    "\n",
    "    S = 0\n",
    "    for i in range(0, r):\n",
    "        for j in range(0, 2**b):\n",
    "            d = (np.sum(interval_counts[i, :]) * np.sum(interval_counts[:, j]))\n",
    "            if d != 0:\n",
    "                S += (interval_counts[i, j] ** 2) / d\n",
    "    \n",
    "    stat_H = n * (S - 1)\n",
    "    quant_H = scipy.stats.chi2.ppf(1 - Alpha, (2**b - 1) * (r - 1))\n",
    "\n",
    "    print(\"Тест на однорідність послідовності:  \" + str(stat_H <= quant_H) + \"   (\" + str(stat_H) + \")\")\n"
   ]
  },
  {
   "cell_type": "markdown",
   "metadata": {},
   "source": [
    "## Генератори і результати їх тестування"
   ]
  },
  {
   "cell_type": "markdown",
   "metadata": {},
   "source": [
    "### Вбудовані генератори"
   ]
  },
  {
   "cell_type": "markdown",
   "metadata": {},
   "source": [
    "#### Криптографічно нестійкий генератор"
   ]
  },
  {
   "cell_type": "code",
   "execution_count": 46,
   "metadata": {},
   "outputs": [
    {
     "name": "stdout",
     "output_type": "stream",
     "text": [
      "\n",
      "Вбудований генератор, нестійкий криптографічно (bits):\n",
      "Тест на рівноймовірність символів:  True   (277.421568)\n",
      "Тест на незалежність символів:  True   (65192.97317313633)\n",
      "Тест на однорідність послідовності:  False   (51776.0278656603)\n",
      "\n",
      "Вбудований генератор, нестійкий криптографічно (bytes):\n",
      "Тест на рівноймовірність символів:  True   (216.55859199999998)\n",
      "Тест на незалежність символів:  True   (65546.31882235884)\n",
      "Тест на однорідність послідовності:  True   (42979.861873307265)\n"
     ]
    }
   ],
   "source": [
    "print(\"\\nВбудований генератор, нестійкий криптографічно (bits):\")\n",
    "unsafe_bits_seq = np.array([random.randint(0, 1) for _ in range(N)], dtype=np.uint8)\n",
    "test(bits_to_bytes((unsafe_bits_seq)))\n",
    "\n",
    "print(\"\\nВбудований генератор, нестійкий криптографічно (bytes):\")\n",
    "unsafe_bytes_seq = np.array(list(random.randbytes(N)), dtype=np.uint8)\n",
    "test(unsafe_bytes_seq)"
   ]
  },
  {
   "cell_type": "markdown",
   "metadata": {},
   "source": [
    "#### Криптографічно стійкий генератор"
   ]
  },
  {
   "cell_type": "code",
   "execution_count": 26,
   "metadata": {},
   "outputs": [
    {
     "name": "stdout",
     "output_type": "stream",
     "text": [
      "\n",
      "Вбудований генератор, стійкий криптографічно (bits):\n",
      "Тест на рівноймовірність символів:  True   (1.1881)\n",
      "Тест на незалежність символів:  True   (1.4395548948442638)\n",
      "Тест на однорідність послідовності:  True   (99.96831475533874)\n",
      "\n",
      "Вбудований генератор, стійкий криптографічно (bytes):\n",
      "Тест на рівноймовірність символів:  True   (282.356224)\n",
      "Тест на незалежність символів:  True   (65506.55085910772)\n",
      "Тест на однорідність послідовності:  True   (46104.31010290106)\n"
     ]
    }
   ],
   "source": [
    "print(\"\\nВбудований генератор, стійкий криптографічно (bits):\")\n",
    "safe_bits_seq = np.array([secrets.randbelow(2) for _ in range(N)], dtype=np.uint8)\n",
    "test(safe_bits_seq, 1)\n",
    "\n",
    "print(\"\\nВбудований генератор, стійкий криптографічно (bytes):\")\n",
    "safe_bytes_seq = np.array(list(secrets.token_bytes(N)), dtype=np.uint8)\n",
    "test(safe_bytes_seq)"
   ]
  },
  {
   "cell_type": "markdown",
   "metadata": {},
   "source": [
    "### Генератор Лемера"
   ]
  },
  {
   "cell_type": "code",
   "execution_count": 27,
   "metadata": {},
   "outputs": [],
   "source": [
    "class Linear_Low:\n",
    "    a = 2**16 + 1\n",
    "    c = 119\n",
    "    x0 = 5  # тюряга #\n",
    "\n",
    "    def generate_bytes(self, n: int):\n",
    "        seq = np.zeros(n, dtype=np.uint32)\n",
    "        seq[0] = self.x0\n",
    "\n",
    "        for i in range(0, n - 1):\n",
    "            seq[i+1] = (self.a*seq[i] + self.c) \n",
    "\n",
    "        seq = np.array(seq % (2**8), dtype=np.uint8)\n",
    "\n",
    "        return seq\n",
    "\n",
    "class Linear_High:\n",
    "    a = 2**16 + 1\n",
    "    c = 119\n",
    "    x0 = 1  # тюряга #\n",
    "\n",
    "    def generate_bytes(self, n: int):\n",
    "        seq = np.zeros(n, dtype=np.uint32)\n",
    "        seq[0] = self.x0\n",
    "\n",
    "        for i in range(0, n - 1):\n",
    "            seq[i+1] = (self.a*seq[i] + self.c)\n",
    "\n",
    "        seq = np.array(seq >> 24, dtype=np.uint8)\n",
    "\n",
    "        return seq\n"
   ]
  },
  {
   "cell_type": "code",
   "execution_count": 28,
   "metadata": {},
   "outputs": [
    {
     "name": "stdout",
     "output_type": "stream",
     "text": [
      "\n",
      "Генератор Лемера (Low):\n",
      "Тест на рівноймовірність символів:  True   (0.012288)\n",
      "Тест на незалежність символів:  False   (255000000.0)\n",
      "Тест на однорідність послідовності:  True   (652.771437011701)\n",
      "\n",
      "\n",
      "Генератор Лемера (High):\n",
      "Тест на рівноймовірність символів:  True   (23.938560000000003)\n",
      "Тест на незалежність символів:  True   (63474.788106759435)\n",
      "Тест на однорідність послідовності:  True   (45609.157861016494)\n"
     ]
    }
   ],
   "source": [
    "de1 = Linear_Low()\n",
    "de2 = Linear_High()\n",
    "\n",
    "t1 = de1.generate_bytes(N)\n",
    "t2 = de2.generate_bytes(N)\n",
    "\n",
    "print(\"\\nГенератор Лемера (Low):\")\n",
    "test(t1)\n",
    "print()\n",
    "print(\"\\nГенератор Лемера (High):\")\n",
    "test(t2)"
   ]
  },
  {
   "cell_type": "markdown",
   "metadata": {},
   "source": [
    "### Генератор L20"
   ]
  },
  {
   "cell_type": "code",
   "execution_count": 29,
   "metadata": {},
   "outputs": [],
   "source": [
    "class L20:\n",
    "    def __init__(self, x_init: np.array):\n",
    "        self.x_init = x_init\n",
    "\n",
    "    def generate_bits(self, n: int):\n",
    "        seq = np.concatenate([np.array(self.x_init, dtype=np.uint8), np.zeros(n - 20, dtype=np.uint8)])\n",
    "\n",
    "        for i in range(20, n):\n",
    "            seq[i] = seq[i - 3] ^ seq[i - 5] ^ seq[i - 9] ^ seq[i - 20]\n",
    "\n",
    "        return seq\n",
    "            "
   ]
  },
  {
   "cell_type": "code",
   "execution_count": 30,
   "metadata": {},
   "outputs": [
    {
     "name": "stdout",
     "output_type": "stream",
     "text": [
      "\n",
      "Генератор L20 (1M bits):\n",
      "Початкове заповнення: [0 1 0 1 0 1 0 0 0 1 1 1 1 0 1 0 0 0 0 1]\n",
      "Тест на рівноймовірність символів:  True   (232.472064)\n",
      "Тест на незалежність символів:  True   (57431.758789527106)\n",
      "Тест на однорідність послідовності:  True   (50119.11594191967)\n",
      "\n",
      "Генератор L20 (16M bits):\n",
      "Тест на рівноймовірність символів:  True   (11.421696)\n",
      "Тест на незалежність символів:  True   (2875.761178746661)\n",
      "Тест на однорідність послідовності:  True   (39428.55462109662)\n"
     ]
    }
   ],
   "source": [
    "smp = np.array([random.randint(0, 1) for _ in range(20)])\n",
    "\n",
    "de_L20 = L20(smp)\n",
    "\n",
    "print(\"\\nГенератор L20 (1M bits):\")\n",
    "print(f\"Початкове заповнення: {smp}\")\n",
    "test(bits_to_bytes(de_L20.generate_bits(N)))\n",
    "\n",
    "\n",
    "print(\"\\nГенератор L20 (16M bits):\")\n",
    "test(bits_to_bytes(de_L20.generate_bits(16*N)))"
   ]
  },
  {
   "cell_type": "markdown",
   "metadata": {},
   "source": [
    "### Генератор L89"
   ]
  },
  {
   "cell_type": "code",
   "execution_count": 31,
   "metadata": {},
   "outputs": [],
   "source": [
    "class L89:\n",
    "    def __init__(self, x_init: np.array):\n",
    "        self.x_init = x_init\n",
    "\n",
    "    def generate_bits(self, n: int):\n",
    "        seq = np.concatenate([np.array(self.x_init, dtype=np.uint8), np.zeros(n - 89, dtype=np.uint8)])\n",
    "\n",
    "        for i in range(89, n):\n",
    "            seq[i] = seq[i - 38] ^ seq[i - 89]\n",
    "\n",
    "        return seq\n",
    "            "
   ]
  },
  {
   "cell_type": "code",
   "execution_count": 32,
   "metadata": {},
   "outputs": [
    {
     "name": "stdout",
     "output_type": "stream",
     "text": [
      "\n",
      "Генератор L89 (1M bits):\n",
      "Початкове заповнення: [0 1 0 0 1 0 0 1 0 0 0 0 1 1 0 1 0 1 0 1 0 0 1 1 1 0 0 0 1 0 0 0 1 1 0 0 1\n",
      " 1 0 1 0 1 0 0 0 1 1 1 0 0 0 0 0 0 1 1 1 1 1 0 1 1 1 0 0 1 1 1 0 0 1 0 0 1\n",
      " 0 1 0 1 0 1 1 1 1 0 0 0 1 1 1]\n",
      "Тест на рівноймовірність символів:  True   (271.277568)\n",
      "Тест на незалежність символів:  True   (64926.63650964034)\n",
      "Тест на однорідність послідовності:  True   (49770.095734737064)\n"
     ]
    }
   ],
   "source": [
    "smp = np.array([random.randint(0, 1) for _ in range(89)])\n",
    "de_L89 = L89(smp)\n",
    "\n",
    "print(\"\\nГенератор L89 (1M bits):\")\n",
    "print(f\"Початкове заповнення: {smp}\")\n",
    "test(bits_to_bytes(de_L89.generate_bits(N)))"
   ]
  },
  {
   "cell_type": "markdown",
   "metadata": {},
   "source": [
    "### Генератор Джиффі"
   ]
  },
  {
   "cell_type": "code",
   "execution_count": 33,
   "metadata": {},
   "outputs": [],
   "source": [
    "class Geffe:\n",
    "    def __init__(self, x_init: np.array, y_init: np.array, s_init: np.array):\n",
    "        self.x = x_init # 11 bits, x11 = x0 + x2\n",
    "        self.y = y_init # 9 bits,  y9 = y0 + y1 + y3 + y4\n",
    "        self.s = s_init # 10 bits, s10 = s0 + s3\n",
    "\n",
    "    def generate_bits(self, n: int):\n",
    "        seq = np.zeros(n, dtype=np.uint8)\n",
    "\n",
    "        for i in range(0, n):\n",
    "            seq[i] = (self.s[0] * self.x[0]) ^ ((1 ^ self.s[0]) * self.y[0])\n",
    "            # Linear Shift\n",
    "            self.x[0] = self.x[0] ^ self.x[2]\n",
    "            self.x = np.roll(self.x, -1)\n",
    "            self.y[0] = self.y[0] ^ self.y[1] ^ self.y[3] ^ self.y[4]\n",
    "            self.y = np.roll(self.y, -1)\n",
    "            self.s[0] = self.s[0] ^ self.s[3]\n",
    "            self.s = np.roll(self.s, -1)\n",
    "\n",
    "        return seq\n",
    "            "
   ]
  },
  {
   "cell_type": "code",
   "execution_count": 34,
   "metadata": {},
   "outputs": [
    {
     "name": "stdout",
     "output_type": "stream",
     "text": [
      "\n",
      "Генератор Джиффі:\n",
      "x = [0 0 0 0 1 1 1 0 0 1 1]\n",
      "y = [0 0 0 1 0 0 1 1 1]\n",
      "s = [1 0 1 1 1 1 1 0 0 0]\n",
      "Тест на рівноймовірність символів:  True   (226.93427199999996)\n",
      "Тест на незалежність символів:  False   (79396.11800166707)\n",
      "Тест на однорідність послідовності:  True   (49294.79021238856)\n"
     ]
    }
   ],
   "source": [
    "x = np.array([random.randint(0, 1) for _ in range(11)])\n",
    "y = np.array([random.randint(0, 1) for _ in range(9)])\n",
    "s = np.array([random.randint(0, 1) for _ in range(10)])\n",
    "\n",
    "\n",
    "Ge_generator = Geffe(x, y, s)\n",
    "\n",
    "print(\"\\nГенератор Джиффі:\")\n",
    "print(f\"x = {x}\")\n",
    "print(f\"y = {y}\")\n",
    "print(f\"s = {s}\")\n",
    "\n",
    "test(bits_to_bytes(Ge_generator.generate_bits(N)))"
   ]
  },
  {
   "cell_type": "markdown",
   "metadata": {},
   "source": [
    "### Генератор \"Бібліотекар\""
   ]
  },
  {
   "cell_type": "code",
   "execution_count": 35,
   "metadata": {},
   "outputs": [],
   "source": [
    "class Librarian:\n",
    "    def __init__(self, filename):\n",
    "        file = io.open(filename, mode='r', encoding='utf-8')\n",
    "        self.text = file.read()\n",
    "\n",
    "    \n",
    "    def generate_bytes(self, n: int):\n",
    "        if len(self.text) < n:\n",
    "            raise RuntimeError(\"Nema sliv, odni emotions\")\n",
    "\n",
    "        seq = np.zeros(n, dtype=np.uint8)\n",
    "\n",
    "        for i in range(0, n):\n",
    "            seq[i] = (ord(self.text[i]) % 2**8)\n",
    "\n",
    "        return seq\n",
    "            "
   ]
  },
  {
   "cell_type": "code",
   "execution_count": 36,
   "metadata": {},
   "outputs": [
    {
     "name": "stdout",
     "output_type": "stream",
     "text": [
      "\n",
      "Генератор \"Бібліотекар\":\n",
      "Тест на рівноймовірність символів:  False   (15620446.022144001)\n",
      "Тест на незалежність символів:  False   (4077309.429118166)\n",
      "Тест на однорідність послідовності:  True   (33138.23958738649)\n"
     ]
    }
   ],
   "source": [
    "de_Lb = Librarian(\"fanfiction.txt\")\n",
    "\n",
    "print(\"\\nГенератор \\\"Бібліотекар\\\":\")\n",
    "test(de_Lb.generate_bytes(N))"
   ]
  },
  {
   "cell_type": "markdown",
   "metadata": {},
   "source": [
    "### Генератор Вольфрама"
   ]
  },
  {
   "cell_type": "code",
   "execution_count": 37,
   "metadata": {},
   "outputs": [],
   "source": [
    "# В ПІТОНІ НЕМА ВБУДОВАНОГО ЦИКЛІЧНОГО ЗСУВУ\n",
    "def rcs(n: np.uint32, rotations) -> np.uint32: \n",
    "    return (n >> rotations | n << (32-rotations)) % 2**32\n",
    "\n",
    "def lcs(n: np.uint32, rotations) -> np.uint32:\n",
    "    return (n << rotations | n >> (32-rotations)) % 2**32\n",
    "\n",
    "class Wolfram:\n",
    "    def __init__(self, r0: np.uint32):\n",
    "        self.r0 = r0\n",
    "\n",
    "    def generate_bits(self, n: int):\n",
    "        r_i = self.r0\n",
    "        seq = np.zeros(n, dtype=np.uint8)\n",
    "\n",
    "        for i in range(0, n):\n",
    "            seq[i] = r_i % 2\n",
    "            r_i = lcs(r_i, 1) ^ (r_i | rcs(r_i, 1))\n",
    "\n",
    "        return seq\n",
    "            "
   ]
  },
  {
   "cell_type": "code",
   "execution_count": 38,
   "metadata": {},
   "outputs": [
    {
     "name": "stdout",
     "output_type": "stream",
     "text": [
      "\n",
      "Генератор Вольфрама:\n",
      "Тест на рівноймовірність символів:  False   (309.34988799999996)\n",
      "Тест на незалежність символів:  False   (81381.05684421698)\n",
      "Тест на однорідність послідовності:  True   (50802.358118155535)\n"
     ]
    }
   ],
   "source": [
    "de_wolfram = Wolfram(1)\n",
    "\n",
    "print(\"\\nГенератор Вольфрама:\")\n",
    "test(bits_to_bytes(de_wolfram.generate_bits(N)))"
   ]
  },
  {
   "cell_type": "markdown",
   "metadata": {},
   "source": [
    "### Генератор BM"
   ]
  },
  {
   "cell_type": "code",
   "execution_count": 39,
   "metadata": {},
   "outputs": [],
   "source": [
    "class BM:\n",
    "    def __init__(self, p, a):\n",
    "        self.p = p\n",
    "        self.a = a\n",
    "\n",
    "    def generate_bits(self, n: int):\n",
    "        seq = np.zeros(n, dtype=object)\n",
    "        seq[0] = random.randint(0, self.p - 1) \n",
    "\n",
    "        for i in range(1, n):\n",
    "            seq[i] = pow(self.a, seq[i - 1], self.p)\n",
    "\n",
    "        seq = np.array(seq < (self.p - 1) / 2, dtype=np.uint8) \n",
    "\n",
    "        return seq\n",
    "    \n",
    "    def generate_bytes(self, n: int):\n",
    "        seq = np.zeros(n, dtype=object)\n",
    "        seq[0] = random.randint(0, self.p - 1) \n",
    "\n",
    "        for i in range(1, n):\n",
    "            seq[i] = pow(self.a, seq[i - 1], self.p)\n",
    "\n",
    "        seq = np.array((seq * 256) // (self.p - 1), dtype=np.uint8) \n",
    "\n",
    "        return seq\n",
    "            "
   ]
  },
  {
   "cell_type": "code",
   "execution_count": 40,
   "metadata": {},
   "outputs": [
    {
     "name": "stdout",
     "output_type": "stream",
     "text": [
      "\n",
      "Генератор BM (bits):\n",
      "Тест на рівноймовірність символів:  True   (272.809472)\n",
      "Тест на незалежність символів:  True   (65237.96210366378)\n",
      "Тест на однорідність послідовності:  True   (50498.63139488933)\n",
      "\n",
      "Генератор BM (bytes):\n",
      "Тест на рівноймовірність символів:  True   (253.33555199999998)\n",
      "Тест на незалежність символів:  True   (64818.830484185906)\n",
      "Тест на однорідність послідовності:  True   (44917.441824667614)\n"
     ]
    }
   ],
   "source": [
    "p = int(\"CEA42B987C44FA642D80AD9F51F10457690DEF10C83D0BC1BCEE12FC3B6093E3\", 16)\n",
    "a = int(\"5B88C41246790891C095E2878880342E88C79974303BD0400B090FE38A688356\", 16)\n",
    "\n",
    "de_BM = BM(p, a)\n",
    "\n",
    "print(\"\\nГенератор BM (bits):\")\n",
    "test(bits_to_bytes(de_BM.generate_bits(N)))\n",
    "\n",
    "print(\"\\nГенератор BM (bytes):\")\n",
    "test(de_BM.generate_bytes(N))"
   ]
  },
  {
   "cell_type": "markdown",
   "metadata": {},
   "source": [
    "### Генератор BBS"
   ]
  },
  {
   "cell_type": "code",
   "execution_count": 41,
   "metadata": {},
   "outputs": [],
   "source": [
    "class BBS:\n",
    "    def __init__(self, p, q):\n",
    "        self.n = p*q\n",
    "\n",
    "    def generate_bits(self, n: int):\n",
    "        seq = np.zeros(n, dtype=object)\n",
    "        seq[0] = random.randint(2, self.n - 1) \n",
    "\n",
    "        for i in range(1, n):\n",
    "            seq[i] = pow(seq[i - 1], 2, self.n)\n",
    "\n",
    "        seq = np.array(seq % 2, dtype=np.uint8) \n",
    "\n",
    "        return seq\n",
    "    \n",
    "    def generate_bytes(self, n: int):\n",
    "        seq = np.zeros(n, dtype=object)\n",
    "        seq[0] = random.randint(2, self.n - 1) \n",
    "\n",
    "        for i in range(1, n):\n",
    "            seq[i] = pow(seq[i - 1], 2, self.n)\n",
    "\n",
    "        seq = np.array(seq % (2**8), dtype=np.uint8) \n",
    "\n",
    "        return seq\n",
    "            "
   ]
  },
  {
   "cell_type": "code",
   "execution_count": 42,
   "metadata": {},
   "outputs": [
    {
     "name": "stdout",
     "output_type": "stream",
     "text": [
      "\n",
      "Генератор BSS (bits):\n",
      "Тест на рівноймовірність символів:  True   (243.920384)\n",
      "Тест на незалежність символів:  True   (64496.78124527719)\n",
      "Тест на однорідність послідовності:  True   (49830.8976887267)\n",
      "\n",
      "Генератор BSS (bytes):\n",
      "Тест на рівноймовірність символів:  True   (255.72454399999998)\n",
      "Тест на незалежність символів:  True   (64919.47539325205)\n",
      "Тест на однорідність послідовності:  True   (42669.42277055463)\n"
     ]
    }
   ],
   "source": [
    "p = int(\"D5BBB96D30086EC484EBA3D7F9CAEB07\", 16)\n",
    "q = int(\"425D2B9BFDB25B9CF6C416CC6E37B59C1F\", 16)\n",
    "\n",
    "de_BBS = BBS(p, q)\n",
    "\n",
    "print(\"\\nГенератор BSS (bits):\")\n",
    "test(bits_to_bytes(de_BBS.generate_bits(N)))\n",
    "\n",
    "print(\"\\nГенератор BSS (bytes):\")\n",
    "test(de_BBS.generate_bytes(N))"
   ]
  },
  {
   "cell_type": "markdown",
   "metadata": {},
   "source": [
    "## Результати статистичного оцінювання генераторів"
   ]
  },
  {
   "cell_type": "markdown",
   "metadata": {},
   "source": [
    "За взятого $\\alpha = 0.05$:\n",
    "\n",
    "$$\\begin{array}{|l|c|c|c|}\n",
    "\\hline \\text{Генератор} & \\text{Рівноймовірність символів} & \\text{Незалежність символів} & \\text{Однорідність послідовності}\\\\\n",
    "\\hline \\text{random bits} & \\checkmark & \\checkmark & X\\\\\n",
    "\\hline \\text{random bytes} & \\checkmark & \\checkmark & \\checkmark\\\\\n",
    "\\hline \\text{secret bits} & \\checkmark & \\checkmark & \\checkmark\\\\\n",
    "\\hline \\text{secret bytes} & \\checkmark & \\checkmark & \\checkmark\\\\\n",
    "\\hline \\text{LehmerLow} & \\checkmark & X & \\checkmark\\\\\n",
    "\\hline \\text{LehmerHigh} & \\checkmark & \\checkmark & \\checkmark\\\\\n",
    "\\hline \\text{L20} & \\checkmark & \\checkmark & \\checkmark\\\\\n",
    "\\hline \\text{L89} & \\checkmark & \\checkmark & \\checkmark\\\\\n",
    "\\hline \\text{Джиффі} & \\checkmark & \\checkmark & \\checkmark\\\\\n",
    "\\hline \\text{\"Бібліотекар\"} & X & X & \\checkmark\\\\\n",
    "\\hline \\text{Вольфрам} & X & X & \\checkmark\\\\\n",
    "\\hline \\text{BM} & \\checkmark & \\checkmark & \\checkmark\\\\\n",
    "\\hline \\text{BM bytes} & \\checkmark & \\checkmark & \\checkmark\\\\\n",
    "\\hline \\text{BBS} & \\checkmark & \\checkmark & \\checkmark\\\\\n",
    "\\hline \\text{BBS bytes} & \\checkmark & \\checkmark & \\checkmark\\\\\n",
    "\\hline\n",
    "\\end{array}$$\n"
   ]
  },
  {
   "cell_type": "markdown",
   "metadata": {},
   "source": [
    "## Висновок\n",
    "- Не бажано використовувати генератори Вольфрама і \"Бібліотекаря\".\n",
    "- Важливо дивитися не тільки на результати тестів, а й на значення статистики для згенерованої послідовності, бо воно насправді може бути дуже близьким до межі.\n",
    "- Обережно користуйтесь інтами в пітоні, вони можуть вибухнути."
   ]
  }
 ],
 "metadata": {
  "kernelspec": {
   "display_name": "Python 3",
   "language": "python",
   "name": "python3"
  },
  "language_info": {
   "codemirror_mode": {
    "name": "ipython",
    "version": 3
   },
   "file_extension": ".py",
   "mimetype": "text/x-python",
   "name": "python",
   "nbconvert_exporter": "python",
   "pygments_lexer": "ipython3",
   "version": "3.11.4"
  },
  "orig_nbformat": 4
 },
 "nbformat": 4,
 "nbformat_minor": 2
}
