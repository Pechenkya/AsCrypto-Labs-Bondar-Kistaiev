{
 "cells": [
  {
   "cell_type": "code",
   "execution_count": 1,
   "metadata": {},
   "outputs": [],
   "source": [
    "import numpy as np\n",
    "import random\n",
    "import scipy"
   ]
  },
  {
   "cell_type": "markdown",
   "metadata": {},
   "source": [
    "## Функція статистичних тестів"
   ]
  },
  {
   "cell_type": "code",
   "execution_count": 18,
   "metadata": {},
   "outputs": [
    {
     "name": "stdout",
     "output_type": "stream",
     "text": [
      "3\n"
     ]
    }
   ],
   "source": [
    "def test_bytes(seq: np.array, alpha):\n",
    "    n = len(seq)\n",
    "\n",
    "    # Рівномірність\n",
    "    counts = np.zeros(256)\n",
    "    n_j = n / 256\n",
    "\n",
    "    for a in seq:\n",
    "        counts[a] += 1\n",
    "\n",
    "    stat_U = np.sum((counts - (n_j / 256))**2 / n_j)\n",
    "    quant_U = scipy.stats.chi2.ppf(1 - alpha, 255)\n",
    "\n",
    "    print(\"Тест на рівноймовірність знаків:  \" + (stat_U <= quant_U))\n",
    "\n",
    "    # Незалежність знаків\n",
    "    pair_counts = np.zeros((256,256))\n",
    "    N_i = np.zeros(256)\n",
    "    N_j = np.zeros(256)\n",
    "\n",
    "    for i in range(0, n-1, 2):\n",
    "        pair_counts[seq[i], seq[i+1]] += 1\n",
    "\n",
    "\n",
    "    for j in range(0, 256):\n",
    "        N_i[j] = np.sum(pair_counts[j, :])\n",
    "        N_j[j] = np.sum(pair_counts[:, j])\n",
    "    \n",
    "    S = 0\n",
    "    for i in range(0, 256):\n",
    "        for j in range(0, 256):\n",
    "            S += (pair_counts[i, j] ** 2) / (N_i[i] * N_j[j])\n",
    "\n",
    "    stat_I = n * (S - 1)\n",
    "    quant_I = scipy.stats.chi2.ppf(1 - alpha, 255 * 255)\n",
    "\n",
    "    print(\"Тест на незалежність знаків:  \" + (stat_I <= quant_I))\n",
    "\n",
    "    \n",
    "\n",
    "\n"
   ]
  },
  {
   "cell_type": "markdown",
   "metadata": {},
   "source": [
    "### Генератор Лемера"
   ]
  },
  {
   "cell_type": "code",
   "execution_count": null,
   "metadata": {},
   "outputs": [],
   "source": [
    "class Linear_Low:\n",
    "    a = 2**16 + 1\n",
    "    c = 119\n",
    "    x0 = 1  # тюряга #\n",
    "\n",
    "    def generate_bytes(self, n: int):\n",
    "        seq = np.zeros(n, dtype=np.uint32)\n",
    "        seq[0] = self.x0\n",
    "\n",
    "        for i in range(0, n - 1):\n",
    "            seq[i+1] = (self.a*seq[i] + self.c) \n",
    "\n",
    "        seq = np.array([seq % (2**8)], dtype=np.uint8)\n",
    "\n",
    "        return seq\n",
    "\n",
    "class Linear_High:\n",
    "    a = 2**16 + 1\n",
    "    c = 119\n",
    "    x0 = 1  # тюряга #\n",
    "\n",
    "    def generate_bytes(self, n: int):\n",
    "        seq = np.zeros(n, dtype=np.uint32)\n",
    "        seq[0] = self.x0\n",
    "\n",
    "        for i in range(0, n - 1):\n",
    "            seq[i+1] = (self.a*seq[i] + self.c)\n",
    "\n",
    "        seq = np.array([seq >> 24], dtype=np.uint8)\n",
    "\n",
    "        return seq\n",
    "        \n",
    "            "
   ]
  },
  {
   "cell_type": "code",
   "execution_count": null,
   "metadata": {},
   "outputs": [],
   "source": [
    "de1 = Linear_Low()\n",
    "de2 = Linear_High()\n",
    "\n",
    "print(de1.generate_bytes(20))\n",
    "print(de2.generate_bytes(20))"
   ]
  },
  {
   "cell_type": "markdown",
   "metadata": {},
   "source": [
    "### Генератор L20"
   ]
  },
  {
   "cell_type": "code",
   "execution_count": null,
   "metadata": {},
   "outputs": [],
   "source": [
    "class L20:\n",
    "    def __init__(self, x_init: np.array):\n",
    "        self.x_init = x_init\n",
    "\n",
    "    def generate_bits(self, n: int):\n",
    "        seq = np.concatenate([np.array(self.x_init, dtype=np.uint8), np.zeros(n - 20, dtype=np.uint8)])\n",
    "\n",
    "        for i in range(20, n):\n",
    "            seq[i] = seq[i - 3] ^ seq[i - 5] ^ seq[i - 9] ^ seq[i - 20]\n",
    "\n",
    "        seq = seq % 2\n",
    "\n",
    "        return seq\n",
    "            "
   ]
  },
  {
   "cell_type": "code",
   "execution_count": null,
   "metadata": {},
   "outputs": [],
   "source": [
    "smp = np.array([random.randint(0, 1) for _ in range(20)])\n",
    "print(smp)\n",
    "de_L20 = L20(smp)\n",
    "\n",
    "print(de_L20.generate_bits(100))"
   ]
  },
  {
   "cell_type": "markdown",
   "metadata": {},
   "source": [
    "### Генератор L89"
   ]
  },
  {
   "cell_type": "code",
   "execution_count": null,
   "metadata": {},
   "outputs": [],
   "source": [
    "class L89:\n",
    "    def __init__(self, x_init: np.array):\n",
    "        self.x_init = x_init\n",
    "\n",
    "    def generate_bits(self, n: int):\n",
    "        seq = np.concatenate([np.array(self.x_init, dtype=np.uint8), np.zeros(n - 89, dtype=np.uint8)])\n",
    "\n",
    "        for i in range(89, n):\n",
    "            seq[i] = seq[i - 38] ^ seq[i - 89]\n",
    "\n",
    "        seq = seq % 2\n",
    "\n",
    "        return seq\n",
    "            "
   ]
  },
  {
   "cell_type": "code",
   "execution_count": null,
   "metadata": {},
   "outputs": [],
   "source": [
    "smp = np.array([random.randint(0, 1) for _ in range(89)])\n",
    "de_L89 = L89(smp)\n",
    "\n",
    "print(de_L89.generate_bits(90))"
   ]
  },
  {
   "cell_type": "markdown",
   "metadata": {},
   "source": [
    "### Генератор Вольфрама"
   ]
  },
  {
   "cell_type": "code",
   "execution_count": null,
   "metadata": {},
   "outputs": [],
   "source": [
    "# В ПІТОНІ НЕМА ВБУДОВАНОГО ЦИКЛІЧНОГО ЗСУВУ\n",
    "def rcs(n: np.uint32, rotations):\n",
    "    return (n >> rotations | n << (32-rotations))\n",
    "\n",
    "def lcs(n: np.uint32, rotations):\n",
    "    return (n << rotations | n >> (32-rotations))\n",
    "\n",
    "class Wolfram:\n",
    "    def __init__(self, r0: np.uint32):\n",
    "        self.r0 = r0\n",
    "\n",
    "    def generate_bits(self, n: int):\n",
    "        r_i = self.r0\n",
    "        seq = np.zeros(n, dtype=np.uint8)\n",
    "\n",
    "        for i in range(0, n):\n",
    "            seq[i] = r_i % 2\n",
    "            r_i = lcs(r_i, 1) ^ (r_i | rcs(r_i, 1))  \n",
    "\n",
    "        return seq\n",
    "            "
   ]
  },
  {
   "cell_type": "code",
   "execution_count": null,
   "metadata": {},
   "outputs": [],
   "source": [
    "de_wolfram = Wolfram(1)\n",
    "\n",
    "print(de_wolfram.generate_bits(100))"
   ]
  },
  {
   "cell_type": "markdown",
   "metadata": {},
   "source": [
    "### Генератор BM"
   ]
  },
  {
   "cell_type": "code",
   "execution_count": null,
   "metadata": {},
   "outputs": [],
   "source": [
    "class BM:\n",
    "    def __init__(self, p, a):\n",
    "        self.p = p\n",
    "        self.a = a\n",
    "\n",
    "    def generate_bits(self, n: int):\n",
    "        seq = np.zeros(n, dtype=object)\n",
    "        seq[0] = random.randint(0, self.p - 1) \n",
    "\n",
    "        for i in range(1, n):\n",
    "            seq[i] = pow(self.a, seq[i - 1], self.p)\n",
    "\n",
    "        seq = np.array([seq < (self.p - 1) / 2], dtype=np.uint8) \n",
    "\n",
    "        return seq\n",
    "    \n",
    "    #todo\n",
    "    def generate_bytes(self, n: int):\n",
    "        seq = np.zeros(n, dtype=object)\n",
    "        seq[0] = random.randint(0, self.p - 1) \n",
    "\n",
    "        for i in range(1, n):\n",
    "            seq[i] = pow(self.a, seq[i - 1], self.p)\n",
    "\n",
    "        seq = np.array([seq < (self.p - 1) / 2], dtype=np.uint8) \n",
    "\n",
    "        return seq\n",
    "            "
   ]
  },
  {
   "cell_type": "code",
   "execution_count": null,
   "metadata": {},
   "outputs": [],
   "source": [
    "p = int(\"CEA42B987C44FA642D80AD9F51F10457690DEF10C83D0BC1BCEE12FC3B6093E3\", 16)\n",
    "a = int(\"5B88C41246790891C095E2878880342E88C79974303BD0400B090FE38A688356\", 16)\n",
    "\n",
    "de_BM = BM(p, a)\n",
    "\n",
    "print(de_BM.generate_bits(1000))"
   ]
  },
  {
   "cell_type": "markdown",
   "metadata": {},
   "source": [
    "### Генератор BBS"
   ]
  },
  {
   "cell_type": "code",
   "execution_count": null,
   "metadata": {},
   "outputs": [],
   "source": [
    "class BBS:\n",
    "    def __init__(self, p, q):\n",
    "        self.n = p*q\n",
    "\n",
    "    def generate_bits(self, n: int):\n",
    "        seq = np.zeros(n, dtype=object)\n",
    "        seq[0] = random.randint(2, self.n - 1) \n",
    "\n",
    "        for i in range(1, n):\n",
    "            seq[i] = pow(seq[i - 1], 2, self.n)\n",
    "\n",
    "        seq = np.array([seq % 2], dtype=np.uint8) \n",
    "\n",
    "        return seq\n",
    "    \n",
    "    def generate_bytes(self, n: int):\n",
    "        seq = np.zeros(n, dtype=object)\n",
    "        seq[0] = random.randint(2, self.n - 1) \n",
    "\n",
    "        for i in range(1, n):\n",
    "            seq[i] = pow(seq[i - 1], 2, self.n)\n",
    "\n",
    "        seq = np.array([seq % (2**8)], dtype=np.uint8) \n",
    "\n",
    "        return seq\n",
    "            "
   ]
  },
  {
   "cell_type": "code",
   "execution_count": null,
   "metadata": {},
   "outputs": [],
   "source": [
    "p = int(\"D5BBB96D30086EC484EBA3D7F9CAEB07\", 16)\n",
    "q = int(\"425D2B9BFDB25B9CF6C416CC6E37B59C1F\", 16)\n",
    "\n",
    "de_BBS = BBS(p, q)\n",
    "\n",
    "print(de_BBS.generate_bytes(1000))"
   ]
  },
  {
   "cell_type": "markdown",
   "metadata": {},
   "source": [
    "#### Криптографічно нестійкий генератор"
   ]
  },
  {
   "cell_type": "code",
   "execution_count": null,
   "metadata": {},
   "outputs": [],
   "source": []
  },
  {
   "cell_type": "markdown",
   "metadata": {},
   "source": [
    "#### Криптографічно стійкий генератор"
   ]
  },
  {
   "cell_type": "code",
   "execution_count": null,
   "metadata": {},
   "outputs": [],
   "source": []
  }
 ],
 "metadata": {
  "kernelspec": {
   "display_name": "Python 3",
   "language": "python",
   "name": "python3"
  },
  "language_info": {
   "codemirror_mode": {
    "name": "ipython",
    "version": 3
   },
   "file_extension": ".py",
   "mimetype": "text/x-python",
   "name": "python",
   "nbconvert_exporter": "python",
   "pygments_lexer": "ipython3",
   "version": "3.11.5"
  },
  "orig_nbformat": 4
 },
 "nbformat": 4,
 "nbformat_minor": 2
}
