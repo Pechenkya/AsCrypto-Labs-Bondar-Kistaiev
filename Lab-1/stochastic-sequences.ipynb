{
 "cells": [
  {
   "cell_type": "code",
   "execution_count": 1,
   "metadata": {},
   "outputs": [],
   "source": [
    "import numpy as np\n",
    "import random\n",
    "import secrets\n",
    "import io\n",
    "import scipy\n",
    "\n",
    "N = 1000000\n",
    "Alpha = 0.05"
   ]
  },
  {
   "cell_type": "markdown",
   "metadata": {},
   "source": [
    "## Функція статистичних тестів"
   ]
  },
  {
   "cell_type": "code",
   "execution_count": 2,
   "metadata": {},
   "outputs": [],
   "source": [
    "def test(seq: np.array, b = 8):\n",
    "    n = len(seq)\n",
    "\n",
    "    # Рівномірність\n",
    "    counts = np.zeros(2**b)\n",
    "    n_j = n / (2**b)\n",
    "\n",
    "    for a in seq:\n",
    "        counts[a] += 1\n",
    "\n",
    "    stat_U = np.sum((counts - n_j)**2 / n_j)\n",
    "    quant_U = scipy.stats.chi2.ppf(1 - Alpha, 2**b - 1)\n",
    "    \n",
    "    print(\"Тест на рівноймовірність символів:  \" + str(stat_U <= quant_U))\n",
    "\n",
    "    # Незалежність символів\n",
    "    pair_counts = np.zeros((2**b, 2**b), dtype=float)\n",
    "\n",
    "    for i in range(0, n-1, 2):\n",
    "        pair_counts[seq[i], seq[i+1]] += 1\n",
    "\n",
    "    S = 0\n",
    "    for i in range(0, 2**b):\n",
    "        for j in range(0, 2**b):\n",
    "            d = (np.sum(pair_counts[i, :]) * np.sum(pair_counts[:, j]))\n",
    "            if d != 0:\n",
    "                S += (pair_counts[i, j] ** 2) / d\n",
    "\n",
    "    stat_I = n * (S - 1)\n",
    "    quant_I = scipy.stats.chi2.ppf(1 - Alpha, (2**b - 1)**2)\n",
    "\n",
    "    print(\"Тест на незалежність символів:  \" + str(stat_I <= quant_I))\n",
    "\n",
    "    # Однорідність послідовності\n",
    "    r = 256\n",
    "    interval_counts = np.zeros((r, 2**b), dtype=float)\n",
    "\n",
    "    for i in range(0, r):\n",
    "        for j in range(0, n // r):\n",
    "            c = seq[r*i + j]\n",
    "            interval_counts[i, c] += 1\n",
    " \n",
    "    S = 0\n",
    "    for i in range(0, r):\n",
    "        for j in range(0, 2**b):\n",
    "            d = (np.sum(interval_counts[i, :]) * np.sum(interval_counts[:, j]))\n",
    "            if d != 0:\n",
    "                S += (interval_counts[i, j] ** 2) / d\n",
    "    \n",
    "    stat_H = n * (S - 1)\n",
    "    quant_H = scipy.stats.chi2.ppf(1 - Alpha, (2**b - 1) * (r - 1))\n",
    "\n",
    "    print(\"Тест на однорідність послідовності:  \" + str(stat_H <= quant_H))\n"
   ]
  },
  {
   "cell_type": "markdown",
   "metadata": {},
   "source": [
    "### Генератор Лемера"
   ]
  },
  {
   "cell_type": "code",
   "execution_count": 3,
   "metadata": {},
   "outputs": [],
   "source": [
    "class Linear_Low:\n",
    "    a = 2**16 + 1\n",
    "    c = 119\n",
    "    x0 = 1  # тюряга #\n",
    "\n",
    "    def generate_bytes(self, n: int):\n",
    "        seq = np.zeros(n, dtype=np.uint32)\n",
    "        seq[0] = self.x0\n",
    "\n",
    "        for i in range(0, n - 1):\n",
    "            seq[i+1] = (self.a*seq[i] + self.c) \n",
    "\n",
    "        seq = np.array(seq % (2**8), dtype=np.uint8)\n",
    "\n",
    "        return seq\n",
    "\n",
    "class Linear_High:\n",
    "    a = 2**16 + 1\n",
    "    c = 119\n",
    "    x0 = 1  # тюряга #\n",
    "\n",
    "    def generate_bytes(self, n: int):\n",
    "        seq = np.zeros(n, dtype=np.uint32)\n",
    "        seq[0] = self.x0\n",
    "\n",
    "        for i in range(0, n - 1):\n",
    "            seq[i+1] = (self.a*seq[i] + self.c)\n",
    "\n",
    "        seq = np.array(seq >> 24, dtype=np.uint8)\n",
    "\n",
    "        return seq\n"
   ]
  },
  {
   "cell_type": "code",
   "execution_count": 4,
   "metadata": {},
   "outputs": [
    {
     "name": "stdout",
     "output_type": "stream",
     "text": [
      "Тест на рівноймовірність символів:  True\n",
      "Тест на незалежність символів:  False\n",
      "Тест на однорідність послідовності:  True\n",
      "Тест на рівноймовірність символів:  True\n",
      "Тест на незалежність символів:  False\n",
      "Тест на однорідність послідовності:  True\n"
     ]
    }
   ],
   "source": [
    "de1 = Linear_Low()\n",
    "de2 = Linear_High()\n",
    "\n",
    "t1 = de1.generate_bytes(N)\n",
    "t2 = de2.generate_bytes(N)\n",
    "\n",
    "test(t1)\n",
    "test(t2)"
   ]
  },
  {
   "cell_type": "markdown",
   "metadata": {},
   "source": [
    "### Генератор L20"
   ]
  },
  {
   "cell_type": "code",
   "execution_count": 5,
   "metadata": {},
   "outputs": [],
   "source": [
    "class L20:\n",
    "    def __init__(self, x_init: np.array):\n",
    "        self.x_init = x_init\n",
    "\n",
    "    def generate_bits(self, n: int):\n",
    "        seq = np.concatenate([np.array(self.x_init, dtype=np.uint8), np.zeros(n - 20, dtype=np.uint8)])\n",
    "\n",
    "        for i in range(20, n):\n",
    "            seq[i] = seq[i - 3] ^ seq[i - 5] ^ seq[i - 9] ^ seq[i - 20]\n",
    "\n",
    "        seq = seq % 2\n",
    "\n",
    "        return seq\n",
    "            "
   ]
  },
  {
   "cell_type": "code",
   "execution_count": 6,
   "metadata": {},
   "outputs": [
    {
     "name": "stdout",
     "output_type": "stream",
     "text": [
      "[1 1 0 0 1 0 1 1 0 0 0 1 1 1 1 1 1 0 1 1]\n",
      "Тест на рівноймовірність символів:  True\n",
      "Тест на незалежність символів:  True\n",
      "Тест на однорідність послідовності:  True\n"
     ]
    }
   ],
   "source": [
    "smp = np.array([random.randint(0, 1) for _ in range(20)])\n",
    "print(smp)\n",
    "de_L20 = L20(smp)\n",
    "\n",
    "test(de_L20.generate_bits(N), 1)"
   ]
  },
  {
   "cell_type": "markdown",
   "metadata": {},
   "source": [
    "### Генератор L89"
   ]
  },
  {
   "cell_type": "code",
   "execution_count": 7,
   "metadata": {},
   "outputs": [],
   "source": [
    "class L89:\n",
    "    def __init__(self, x_init: np.array):\n",
    "        self.x_init = x_init\n",
    "\n",
    "    def generate_bits(self, n: int):\n",
    "        seq = np.concatenate([np.array(self.x_init, dtype=np.uint8), np.zeros(n - 89, dtype=np.uint8)])\n",
    "\n",
    "        for i in range(89, n):\n",
    "            seq[i] = seq[i - 38] ^ seq[i - 89]\n",
    "\n",
    "        seq = seq % 2\n",
    "\n",
    "        return seq\n",
    "            "
   ]
  },
  {
   "cell_type": "code",
   "execution_count": 8,
   "metadata": {},
   "outputs": [
    {
     "name": "stdout",
     "output_type": "stream",
     "text": [
      "Тест на рівноймовірність символів:  True\n",
      "Тест на незалежність символів:  False\n",
      "Тест на однорідність послідовності:  True\n"
     ]
    }
   ],
   "source": [
    "smp = np.array([random.randint(0, 1) for _ in range(89)])\n",
    "de_L89 = L89(smp)\n",
    "\n",
    "test(de_L89.generate_bits(N), 1)"
   ]
  },
  {
   "cell_type": "markdown",
   "metadata": {},
   "source": [
    "### Генератор Вольфрама"
   ]
  },
  {
   "cell_type": "code",
   "execution_count": 9,
   "metadata": {},
   "outputs": [],
   "source": [
    "# В ПІТОНІ НЕМА ВБУДОВАНОГО ЦИКЛІЧНОГО ЗСУВУ\n",
    "def rcs(n: np.uint32, rotations):\n",
    "    return (n >> rotations | n << (32-rotations))\n",
    "\n",
    "def lcs(n: np.uint32, rotations):\n",
    "    return (n << rotations | n >> (32-rotations))\n",
    "\n",
    "class Wolfram:\n",
    "    def __init__(self, r0: np.uint32):\n",
    "        self.r0 = r0\n",
    "\n",
    "    def generate_bits(self, n: int):\n",
    "        r_i = self.r0\n",
    "        seq = np.zeros(n, dtype=np.uint8)\n",
    "\n",
    "        for i in range(0, n):\n",
    "            seq[i] = r_i % 2\n",
    "            r_i = lcs(r_i, 1) ^ (r_i | rcs(r_i, 1))  \n",
    "\n",
    "        return seq\n",
    "            "
   ]
  },
  {
   "cell_type": "code",
   "execution_count": 10,
   "metadata": {},
   "outputs": [],
   "source": [
    "#de_wolfram = Wolfram(1)\n",
    "\n",
    "#test(de_wolfram.generate_bits(N), 1)"
   ]
  },
  {
   "cell_type": "markdown",
   "metadata": {},
   "source": [
    "### Генератор \"Бібліотекар\""
   ]
  },
  {
   "cell_type": "code",
   "execution_count": 11,
   "metadata": {},
   "outputs": [],
   "source": [
    "class Librarian:\n",
    "    def __init__(self, filename):\n",
    "        file = io.open(filename, mode='r', encoding='utf-8')\n",
    "        self.text = file.read()\n",
    "\n",
    "    \n",
    "    def generate_bytes(self, n: int):\n",
    "        if len(self.text) < n:\n",
    "            raise RuntimeError(\"Nema sliv, odni emotions\")\n",
    "\n",
    "        seq = np.zeros(n, dtype=np.uint8)\n",
    "\n",
    "        for i in range(0, n):\n",
    "            seq[i] = ord(self.text[i])\n",
    "\n",
    "        return seq\n",
    "            "
   ]
  },
  {
   "cell_type": "code",
   "execution_count": 12,
   "metadata": {},
   "outputs": [
    {
     "name": "stderr",
     "output_type": "stream",
     "text": [
      "C:\\Users\\matki\\AppData\\Local\\Temp\\ipykernel_9996\\3485778653.py:14: DeprecationWarning: NumPy will stop allowing conversion of out-of-bound Python integers to integer arrays.  The conversion of 9813 to uint8 will fail in the future.\n",
      "For the old behavior, usually:\n",
      "    np.array(value).astype(dtype)\n",
      "will give the desired result (the cast overflows).\n",
      "  seq[i] = ord(self.text[i])\n",
      "C:\\Users\\matki\\AppData\\Local\\Temp\\ipykernel_9996\\3485778653.py:14: DeprecationWarning: NumPy will stop allowing conversion of out-of-bound Python integers to integer arrays.  The conversion of 8230 to uint8 will fail in the future.\n",
      "For the old behavior, usually:\n",
      "    np.array(value).astype(dtype)\n",
      "will give the desired result (the cast overflows).\n",
      "  seq[i] = ord(self.text[i])\n",
      "C:\\Users\\matki\\AppData\\Local\\Temp\\ipykernel_9996\\3485778653.py:14: DeprecationWarning: NumPy will stop allowing conversion of out-of-bound Python integers to integer arrays.  The conversion of 8211 to uint8 will fail in the future.\n",
      "For the old behavior, usually:\n",
      "    np.array(value).astype(dtype)\n",
      "will give the desired result (the cast overflows).\n",
      "  seq[i] = ord(self.text[i])\n",
      "C:\\Users\\matki\\AppData\\Local\\Temp\\ipykernel_9996\\3485778653.py:14: DeprecationWarning: NumPy will stop allowing conversion of out-of-bound Python integers to integer arrays.  The conversion of 8217 to uint8 will fail in the future.\n",
      "For the old behavior, usually:\n",
      "    np.array(value).astype(dtype)\n",
      "will give the desired result (the cast overflows).\n",
      "  seq[i] = ord(self.text[i])\n",
      "C:\\Users\\matki\\AppData\\Local\\Temp\\ipykernel_9996\\3485778653.py:14: DeprecationWarning: NumPy will stop allowing conversion of out-of-bound Python integers to integer arrays.  The conversion of 8220 to uint8 will fail in the future.\n",
      "For the old behavior, usually:\n",
      "    np.array(value).astype(dtype)\n",
      "will give the desired result (the cast overflows).\n",
      "  seq[i] = ord(self.text[i])\n",
      "C:\\Users\\matki\\AppData\\Local\\Temp\\ipykernel_9996\\3485778653.py:14: DeprecationWarning: NumPy will stop allowing conversion of out-of-bound Python integers to integer arrays.  The conversion of 8221 to uint8 will fail in the future.\n",
      "For the old behavior, usually:\n",
      "    np.array(value).astype(dtype)\n",
      "will give the desired result (the cast overflows).\n",
      "  seq[i] = ord(self.text[i])\n",
      "C:\\Users\\matki\\AppData\\Local\\Temp\\ipykernel_9996\\3485778653.py:14: DeprecationWarning: NumPy will stop allowing conversion of out-of-bound Python integers to integer arrays.  The conversion of 8216 to uint8 will fail in the future.\n",
      "For the old behavior, usually:\n",
      "    np.array(value).astype(dtype)\n",
      "will give the desired result (the cast overflows).\n",
      "  seq[i] = ord(self.text[i])\n",
      "C:\\Users\\matki\\AppData\\Local\\Temp\\ipykernel_9996\\3485778653.py:14: DeprecationWarning: NumPy will stop allowing conversion of out-of-bound Python integers to integer arrays.  The conversion of 65508 to uint8 will fail in the future.\n",
      "For the old behavior, usually:\n",
      "    np.array(value).astype(dtype)\n",
      "will give the desired result (the cast overflows).\n",
      "  seq[i] = ord(self.text[i])\n",
      "C:\\Users\\matki\\AppData\\Local\\Temp\\ipykernel_9996\\3485778653.py:14: DeprecationWarning: NumPy will stop allowing conversion of out-of-bound Python integers to integer arrays.  The conversion of 42780 to uint8 will fail in the future.\n",
      "For the old behavior, usually:\n",
      "    np.array(value).astype(dtype)\n",
      "will give the desired result (the cast overflows).\n",
      "  seq[i] = ord(self.text[i])\n",
      "C:\\Users\\matki\\AppData\\Local\\Temp\\ipykernel_9996\\3485778653.py:14: DeprecationWarning: NumPy will stop allowing conversion of out-of-bound Python integers to integer arrays.  The conversion of 8226 to uint8 will fail in the future.\n",
      "For the old behavior, usually:\n",
      "    np.array(value).astype(dtype)\n",
      "will give the desired result (the cast overflows).\n",
      "  seq[i] = ord(self.text[i])\n"
     ]
    },
    {
     "name": "stdout",
     "output_type": "stream",
     "text": [
      "Тест на рівноймовірність символів:  False\n",
      "Тест на незалежність символів:  False\n",
      "Тест на однорідність послідовності:  True\n"
     ]
    }
   ],
   "source": [
    "de_Lb = Librarian(\"fanfiction.txt\")\n",
    "\n",
    "test(de_Lb.generate_bytes(N))"
   ]
  },
  {
   "cell_type": "markdown",
   "metadata": {},
   "source": [
    "### Генератор BM"
   ]
  },
  {
   "cell_type": "code",
   "execution_count": 13,
   "metadata": {},
   "outputs": [],
   "source": [
    "class BM:\n",
    "    def __init__(self, p, a):\n",
    "        self.p = p\n",
    "        self.a = a\n",
    "\n",
    "    def generate_bits(self, n: int):\n",
    "        seq = np.zeros(n, dtype=object)\n",
    "        seq[0] = random.randint(0, self.p - 1) \n",
    "\n",
    "        for i in range(1, n):\n",
    "            seq[i] = pow(self.a, seq[i - 1], self.p)\n",
    "\n",
    "        seq = np.array(seq < (self.p - 1) / 2, dtype=np.uint8) \n",
    "\n",
    "        return seq\n",
    "    \n",
    "    def generate_bytes(self, n: int):\n",
    "        seq = np.zeros(n, dtype=object)\n",
    "        seq[0] = random.randint(0, self.p - 1) \n",
    "\n",
    "        for i in range(1, n):\n",
    "            seq[i] = pow(self.a, seq[i - 1], self.p)\n",
    "\n",
    "        seq = np.array((seq * 256) // (self.p - 1), dtype=np.uint8) \n",
    "\n",
    "        return seq\n",
    "            "
   ]
  },
  {
   "cell_type": "code",
   "execution_count": 14,
   "metadata": {},
   "outputs": [
    {
     "name": "stdout",
     "output_type": "stream",
     "text": [
      "Тест на рівноймовірність символів:  False\n",
      "Тест на незалежність символів:  True\n",
      "Тест на однорідність послідовності:  True\n",
      "Тест на рівноймовірність символів:  True\n",
      "Тест на незалежність символів:  False\n",
      "Тест на однорідність послідовності:  True\n"
     ]
    }
   ],
   "source": [
    "p = int(\"CEA42B987C44FA642D80AD9F51F10457690DEF10C83D0BC1BCEE12FC3B6093E3\", 16)\n",
    "a = int(\"5B88C41246790891C095E2878880342E88C79974303BD0400B090FE38A688356\", 16)\n",
    "\n",
    "de_BM = BM(p, a)\n",
    "\n",
    "test(de_BM.generate_bits(N), 1)\n",
    "test(de_BM.generate_bytes(N))"
   ]
  },
  {
   "cell_type": "markdown",
   "metadata": {},
   "source": [
    "### Генератор Джиффі"
   ]
  },
  {
   "cell_type": "code",
   "execution_count": 15,
   "metadata": {},
   "outputs": [],
   "source": [
    "class Geffe:\n",
    "    def __init__(self, x_init: np.array, y_init: np.array, s_init: np.array):\n",
    "        self.x = x_init # 11 bits, x11 = x0 + x2\n",
    "        self.y = y_init # 9 bits,  y9 = y0 + y1 + y3 + y4\n",
    "        self.s = s_init # 10 bits, s10 = s0 + s3\n",
    "\n",
    "    def generate_bits(self, n: int):\n",
    "        seq = np.zeros(n, dtype=np.uint8)\n",
    "\n",
    "        for i in range(0, n):\n",
    "            seq[i] = (self.s[0] * self.x[0]) ^ ((1 ^ self.s[0]) * self.y[0])\n",
    "            # Linear Shift\n",
    "            self.x[0] = self.x[0] ^ self.x[2]\n",
    "            self.x = np.roll(self.x, -1)\n",
    "            self.y[0] = self.y[0] ^ self.y[1] ^ self.y[3] ^ self.y[4]\n",
    "            self.y = np.roll(self.y, -1)\n",
    "            self.s[0] = self.s[0] ^ self.s[3]\n",
    "            self.s = np.roll(self.s, -1)\n",
    "\n",
    "        return seq\n",
    "            "
   ]
  },
  {
   "cell_type": "code",
   "execution_count": 16,
   "metadata": {},
   "outputs": [
    {
     "name": "stdout",
     "output_type": "stream",
     "text": [
      "[1 0 1 0 0 0 1 1 0 0 0]\n",
      "[1 0 0 0 0 1 0 1 1]\n",
      "[0 0 1 1 1 0 0 0 0 1]\n",
      "Тест на рівноймовірність символів:  True\n",
      "Тест на незалежність символів:  True\n",
      "Тест на однорідність послідовності:  True\n"
     ]
    }
   ],
   "source": [
    "x = np.array([random.randint(0, 1) for _ in range(11)])\n",
    "y = np.array([random.randint(0, 1) for _ in range(9)])\n",
    "s = np.array([random.randint(0, 1) for _ in range(10)])\n",
    "\n",
    "print(x)\n",
    "print(y)\n",
    "print(s)\n",
    "\n",
    "Ge_generator = Geffe(x, y, s)\n",
    "\n",
    "test(Ge_generator.generate_bits(N), 1)"
   ]
  },
  {
   "cell_type": "markdown",
   "metadata": {},
   "source": [
    "### Генератор BBS"
   ]
  },
  {
   "cell_type": "code",
   "execution_count": 17,
   "metadata": {},
   "outputs": [],
   "source": [
    "class BBS:\n",
    "    def __init__(self, p, q):\n",
    "        self.n = p*q\n",
    "\n",
    "    def generate_bits(self, n: int):\n",
    "        seq = np.zeros(n, dtype=object)\n",
    "        seq[0] = random.randint(2, self.n - 1) \n",
    "\n",
    "        for i in range(1, n):\n",
    "            seq[i] = pow(seq[i - 1], 2, self.n)\n",
    "\n",
    "        seq = np.array(seq % 2, dtype=np.uint8) \n",
    "\n",
    "        return seq\n",
    "    \n",
    "    def generate_bytes(self, n: int):\n",
    "        seq = np.zeros(n, dtype=object)\n",
    "        seq[0] = random.randint(2, self.n - 1) \n",
    "\n",
    "        for i in range(1, n):\n",
    "            seq[i] = pow(seq[i - 1], 2, self.n)\n",
    "\n",
    "        seq = np.array(seq % (2**8), dtype=np.uint8) \n",
    "\n",
    "        return seq\n",
    "            "
   ]
  },
  {
   "cell_type": "code",
   "execution_count": 18,
   "metadata": {},
   "outputs": [
    {
     "name": "stdout",
     "output_type": "stream",
     "text": [
      "Тест на рівноймовірність символів:  False\n",
      "Тест на незалежність символів:  True\n",
      "Тест на однорідність послідовності:  True\n"
     ]
    }
   ],
   "source": [
    "p = int(\"D5BBB96D30086EC484EBA3D7F9CAEB07\", 16)\n",
    "q = int(\"425D2B9BFDB25B9CF6C416CC6E37B59C1F\", 16)\n",
    "\n",
    "de_BBS = BBS(p, q)\n",
    "\n",
    "test(de_BBS.generate_bytes(N))\n",
    "test(de_BBS.generate_bits(N), 1)"
   ]
  },
  {
   "cell_type": "markdown",
   "metadata": {},
   "source": [
    "### Вбудовані генератори"
   ]
  },
  {
   "cell_type": "markdown",
   "metadata": {},
   "source": [
    "#### Криптографічно нестійкий генератор"
   ]
  },
  {
   "cell_type": "code",
   "execution_count": 19,
   "metadata": {},
   "outputs": [
    {
     "name": "stdout",
     "output_type": "stream",
     "text": [
      "Тест на рівноймовірність символів:  True\n",
      "Тест на незалежність символів:  False\n",
      "Тест на однорідність послідовності:  True\n",
      "Тест на рівноймовірність символів:  True\n",
      "Тест на незалежність символів:  False\n",
      "Тест на однорідність послідовності:  True\n"
     ]
    }
   ],
   "source": [
    "unsafe_bits_seq = np.array([random.randint(0, 1) for _ in range(N)], dtype=np.uint8)\n",
    "test(unsafe_bits_seq, 1)\n",
    "\n",
    "unsafe_bytes_seq = np.array(list(random.randbytes(N)), dtype=np.uint8)\n",
    "test(unsafe_bytes_seq)"
   ]
  },
  {
   "cell_type": "markdown",
   "metadata": {},
   "source": [
    "#### Криптографічно стійкий генератор"
   ]
  },
  {
   "cell_type": "code",
   "execution_count": 20,
   "metadata": {},
   "outputs": [
    {
     "name": "stdout",
     "output_type": "stream",
     "text": [
      "Тест на рівноймовірність символів:  False\n",
      "Тест на незалежність символів:  False\n",
      "Тест на однорідність послідовності:  False\n",
      "Тест на рівноймовірність символів:  True\n",
      "Тест на незалежність символів:  False\n",
      "Тест на однорідність послідовності:  True\n"
     ]
    }
   ],
   "source": [
    "safe_bits_seq = np.array([secrets.randbelow(2) for _ in range(N)], dtype=np.uint8)\n",
    "test(safe_bits_seq, 1)\n",
    "\n",
    "safe_bytes_seq = np.array(list(secrets.token_bytes(N)), dtype=np.uint8)\n",
    "test(safe_bytes_seq)"
   ]
  }
 ],
 "metadata": {
  "kernelspec": {
   "display_name": "Python 3",
   "language": "python",
   "name": "python3"
  },
  "language_info": {
   "codemirror_mode": {
    "name": "ipython",
    "version": 3
   },
   "file_extension": ".py",
   "mimetype": "text/x-python",
   "name": "python",
   "nbconvert_exporter": "python",
   "pygments_lexer": "ipython3",
   "version": "3.11.5"
  },
  "orig_nbformat": 4
 },
 "nbformat": 4,
 "nbformat_minor": 2
}
